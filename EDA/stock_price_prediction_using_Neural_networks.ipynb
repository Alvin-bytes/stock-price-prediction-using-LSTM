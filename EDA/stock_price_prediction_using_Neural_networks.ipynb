{
  "nbformat": 4,
  "nbformat_minor": 0,
  "metadata": {
    "colab": {
      "provenance": [],
      "toc_visible": true
    },
    "kernelspec": {
      "name": "python3",
      "display_name": "Python 3"
    },
    "language_info": {
      "name": "python"
    }
  },
  "cells": [
    {
      "cell_type": "markdown",
      "source": [
        "# Utilizing a Keras LSTM model to forecast stock trends\n",
        "\n",
        "As financial institutions begin to embrace artificial intelligence, machine learning is increasingly utilized to help make trading decisions. Although there is an abundance of stock data for machine learning models to train on, a high noise to signal ratio and the multitude of factors that affect stock prices are among the several reasons that predicting the market difficult. At the same time, these models don’t need to reach high levels of accuracy because even 60% accuracy can deliver solid returns. One method for predicting stock prices is using a long short-term memory neural network (LSTM) for times series forecasting."
      ],
      "metadata": {
        "id": "iugGu_V2OWgc"
      }
    },
    {
      "cell_type": "markdown",
      "source": [
        "## LSTM: A Brief Explanation\n",
        "LSTMs are an improved version of recurrent neural networks (RNNs). RNNs are analogous to human learning. When humans think, we don’t start our thinking from scratch each second. For example, in the sentence “Bob plays basketball”, we know that Bob is the person who plays basketball because we retain information about past words while reading sentences. Similarly, RNNs are networks with loops in them, which allow them to use past information before arriving at a final output. However, RNNs can only connect recent previous information and cannot connect information as the time gap grows. This is where LSTMs come into play; LSTMs are a type of RNN that remember information over long periods of time, making them better suited for predicting stock prices."
      ],
      "metadata": {
        "id": "-CQP_-5gOnb0"
      }
    },
    {
      "cell_type": "markdown",
      "source": [
        "## Imports/Initial Data\n",
        "To begin our project, we import numpy for making scientific computations, pandas for loading and modifying datasets, and matplotlib for plotting graphs."
      ],
      "metadata": {
        "id": "a52EiqJOO-iE"
      }
    },
    {
      "cell_type": "code",
      "execution_count": null,
      "metadata": {
        "id": "Xnw5I5-nOMjz"
      },
      "outputs": [],
      "source": [
        "import numpy as np\n",
        "import matplotlib.pyplot as plt\n",
        "import pandas as pd"
      ]
    },
    {
      "cell_type": "markdown",
      "source": [
        "After making the necessary imports, we load data on Tata Global Beverage’s past stock prices. From the data, we select the values of the first and second columns (“Open” and “High” respectively) as our training dataset. The “Open” column represents the opening price for shares that day and the “High” column represents the highest price shares reached that day."
      ],
      "metadata": {
        "id": "EeD4iD2fPM5E"
      }
    },
    {
      "cell_type": "code",
      "source": [
        "url = 'https://raw.githubusercontent.com/mwitiderrick/stockprice/master/NSE-TATAGLOBAL.csv'\n",
        "dataset_train = pd.read_csv(url)\n",
        "training_set = dataset_train.iloc[:, 1:2].values"
      ],
      "metadata": {
        "id": "ZcnTZtdAPNl9"
      },
      "execution_count": null,
      "outputs": []
    },
    {
      "cell_type": "markdown",
      "source": [
        "To get a look at the dataset we’re using, we can check the head, which shows us the first five rows of our dataset."
      ],
      "metadata": {
        "id": "uzN8GUVSPXMt"
      }
    },
    {
      "cell_type": "code",
      "source": [
        "dataset_train.head()"
      ],
      "metadata": {
        "colab": {
          "base_uri": "https://localhost:8080/",
          "height": 310
        },
        "id": "azsWkI4DPXvt",
        "outputId": "14cc95ff-867c-4345-dfa2-0d940c87b0ad"
      },
      "execution_count": null,
      "outputs": [
        {
          "output_type": "execute_result",
          "data": {
            "text/plain": [
              "         Date    Open    High     Low    Last   Close  Total Trade Quantity  \\\n",
              "0  2018-09-28  234.05  235.95  230.20  233.50  233.75               3069914   \n",
              "1  2018-09-27  234.55  236.80  231.10  233.80  233.25               5082859   \n",
              "2  2018-09-26  240.00  240.00  232.50  235.00  234.25               2240909   \n",
              "3  2018-09-25  233.30  236.75  232.00  236.25  236.10               2349368   \n",
              "4  2018-09-24  233.55  239.20  230.75  234.00  233.30               3423509   \n",
              "\n",
              "   Turnover (Lacs)  \n",
              "0          7162.35  \n",
              "1         11859.95  \n",
              "2          5248.60  \n",
              "3          5503.90  \n",
              "4          7999.55  "
            ],
            "text/html": [
              "\n",
              "  <div id=\"df-73866481-c1c0-4a83-9052-8ac29c38952b\" class=\"colab-df-container\">\n",
              "    <div>\n",
              "<style scoped>\n",
              "    .dataframe tbody tr th:only-of-type {\n",
              "        vertical-align: middle;\n",
              "    }\n",
              "\n",
              "    .dataframe tbody tr th {\n",
              "        vertical-align: top;\n",
              "    }\n",
              "\n",
              "    .dataframe thead th {\n",
              "        text-align: right;\n",
              "    }\n",
              "</style>\n",
              "<table border=\"1\" class=\"dataframe\">\n",
              "  <thead>\n",
              "    <tr style=\"text-align: right;\">\n",
              "      <th></th>\n",
              "      <th>Date</th>\n",
              "      <th>Open</th>\n",
              "      <th>High</th>\n",
              "      <th>Low</th>\n",
              "      <th>Last</th>\n",
              "      <th>Close</th>\n",
              "      <th>Total Trade Quantity</th>\n",
              "      <th>Turnover (Lacs)</th>\n",
              "    </tr>\n",
              "  </thead>\n",
              "  <tbody>\n",
              "    <tr>\n",
              "      <th>0</th>\n",
              "      <td>2018-09-28</td>\n",
              "      <td>234.05</td>\n",
              "      <td>235.95</td>\n",
              "      <td>230.20</td>\n",
              "      <td>233.50</td>\n",
              "      <td>233.75</td>\n",
              "      <td>3069914</td>\n",
              "      <td>7162.35</td>\n",
              "    </tr>\n",
              "    <tr>\n",
              "      <th>1</th>\n",
              "      <td>2018-09-27</td>\n",
              "      <td>234.55</td>\n",
              "      <td>236.80</td>\n",
              "      <td>231.10</td>\n",
              "      <td>233.80</td>\n",
              "      <td>233.25</td>\n",
              "      <td>5082859</td>\n",
              "      <td>11859.95</td>\n",
              "    </tr>\n",
              "    <tr>\n",
              "      <th>2</th>\n",
              "      <td>2018-09-26</td>\n",
              "      <td>240.00</td>\n",
              "      <td>240.00</td>\n",
              "      <td>232.50</td>\n",
              "      <td>235.00</td>\n",
              "      <td>234.25</td>\n",
              "      <td>2240909</td>\n",
              "      <td>5248.60</td>\n",
              "    </tr>\n",
              "    <tr>\n",
              "      <th>3</th>\n",
              "      <td>2018-09-25</td>\n",
              "      <td>233.30</td>\n",
              "      <td>236.75</td>\n",
              "      <td>232.00</td>\n",
              "      <td>236.25</td>\n",
              "      <td>236.10</td>\n",
              "      <td>2349368</td>\n",
              "      <td>5503.90</td>\n",
              "    </tr>\n",
              "    <tr>\n",
              "      <th>4</th>\n",
              "      <td>2018-09-24</td>\n",
              "      <td>233.55</td>\n",
              "      <td>239.20</td>\n",
              "      <td>230.75</td>\n",
              "      <td>234.00</td>\n",
              "      <td>233.30</td>\n",
              "      <td>3423509</td>\n",
              "      <td>7999.55</td>\n",
              "    </tr>\n",
              "  </tbody>\n",
              "</table>\n",
              "</div>\n",
              "    <div class=\"colab-df-buttons\">\n",
              "\n",
              "  <div class=\"colab-df-container\">\n",
              "    <button class=\"colab-df-convert\" onclick=\"convertToInteractive('df-73866481-c1c0-4a83-9052-8ac29c38952b')\"\n",
              "            title=\"Convert this dataframe to an interactive table.\"\n",
              "            style=\"display:none;\">\n",
              "\n",
              "  <svg xmlns=\"http://www.w3.org/2000/svg\" height=\"24px\" viewBox=\"0 -960 960 960\">\n",
              "    <path d=\"M120-120v-720h720v720H120Zm60-500h600v-160H180v160Zm220 220h160v-160H400v160Zm0 220h160v-160H400v160ZM180-400h160v-160H180v160Zm440 0h160v-160H620v160ZM180-180h160v-160H180v160Zm440 0h160v-160H620v160Z\"/>\n",
              "  </svg>\n",
              "    </button>\n",
              "\n",
              "  <style>\n",
              "    .colab-df-container {\n",
              "      display:flex;\n",
              "      gap: 12px;\n",
              "    }\n",
              "\n",
              "    .colab-df-convert {\n",
              "      background-color: #E8F0FE;\n",
              "      border: none;\n",
              "      border-radius: 50%;\n",
              "      cursor: pointer;\n",
              "      display: none;\n",
              "      fill: #1967D2;\n",
              "      height: 32px;\n",
              "      padding: 0 0 0 0;\n",
              "      width: 32px;\n",
              "    }\n",
              "\n",
              "    .colab-df-convert:hover {\n",
              "      background-color: #E2EBFA;\n",
              "      box-shadow: 0px 1px 2px rgba(60, 64, 67, 0.3), 0px 1px 3px 1px rgba(60, 64, 67, 0.15);\n",
              "      fill: #174EA6;\n",
              "    }\n",
              "\n",
              "    .colab-df-buttons div {\n",
              "      margin-bottom: 4px;\n",
              "    }\n",
              "\n",
              "    [theme=dark] .colab-df-convert {\n",
              "      background-color: #3B4455;\n",
              "      fill: #D2E3FC;\n",
              "    }\n",
              "\n",
              "    [theme=dark] .colab-df-convert:hover {\n",
              "      background-color: #434B5C;\n",
              "      box-shadow: 0px 1px 3px 1px rgba(0, 0, 0, 0.15);\n",
              "      filter: drop-shadow(0px 1px 2px rgba(0, 0, 0, 0.3));\n",
              "      fill: #FFFFFF;\n",
              "    }\n",
              "  </style>\n",
              "\n",
              "    <script>\n",
              "      const buttonEl =\n",
              "        document.querySelector('#df-73866481-c1c0-4a83-9052-8ac29c38952b button.colab-df-convert');\n",
              "      buttonEl.style.display =\n",
              "        google.colab.kernel.accessAllowed ? 'block' : 'none';\n",
              "\n",
              "      async function convertToInteractive(key) {\n",
              "        const element = document.querySelector('#df-73866481-c1c0-4a83-9052-8ac29c38952b');\n",
              "        const dataTable =\n",
              "          await google.colab.kernel.invokeFunction('convertToInteractive',\n",
              "                                                    [key], {});\n",
              "        if (!dataTable) return;\n",
              "\n",
              "        const docLinkHtml = 'Like what you see? Visit the ' +\n",
              "          '<a target=\"_blank\" href=https://colab.research.google.com/notebooks/data_table.ipynb>data table notebook</a>'\n",
              "          + ' to learn more about interactive tables.';\n",
              "        element.innerHTML = '';\n",
              "        dataTable['output_type'] = 'display_data';\n",
              "        await google.colab.output.renderOutput(dataTable, element);\n",
              "        const docLink = document.createElement('div');\n",
              "        docLink.innerHTML = docLinkHtml;\n",
              "        element.appendChild(docLink);\n",
              "      }\n",
              "    </script>\n",
              "  </div>\n",
              "\n",
              "\n",
              "<div id=\"df-37e7877a-bf2c-4d5a-8ef3-51b952d25207\">\n",
              "  <button class=\"colab-df-quickchart\" onclick=\"quickchart('df-37e7877a-bf2c-4d5a-8ef3-51b952d25207')\"\n",
              "            title=\"Suggest charts.\"\n",
              "            style=\"display:none;\">\n",
              "\n",
              "<svg xmlns=\"http://www.w3.org/2000/svg\" height=\"24px\"viewBox=\"0 0 24 24\"\n",
              "     width=\"24px\">\n",
              "    <g>\n",
              "        <path d=\"M19 3H5c-1.1 0-2 .9-2 2v14c0 1.1.9 2 2 2h14c1.1 0 2-.9 2-2V5c0-1.1-.9-2-2-2zM9 17H7v-7h2v7zm4 0h-2V7h2v10zm4 0h-2v-4h2v4z\"/>\n",
              "    </g>\n",
              "</svg>\n",
              "  </button>\n",
              "\n",
              "<style>\n",
              "  .colab-df-quickchart {\n",
              "      --bg-color: #E8F0FE;\n",
              "      --fill-color: #1967D2;\n",
              "      --hover-bg-color: #E2EBFA;\n",
              "      --hover-fill-color: #174EA6;\n",
              "      --disabled-fill-color: #AAA;\n",
              "      --disabled-bg-color: #DDD;\n",
              "  }\n",
              "\n",
              "  [theme=dark] .colab-df-quickchart {\n",
              "      --bg-color: #3B4455;\n",
              "      --fill-color: #D2E3FC;\n",
              "      --hover-bg-color: #434B5C;\n",
              "      --hover-fill-color: #FFFFFF;\n",
              "      --disabled-bg-color: #3B4455;\n",
              "      --disabled-fill-color: #666;\n",
              "  }\n",
              "\n",
              "  .colab-df-quickchart {\n",
              "    background-color: var(--bg-color);\n",
              "    border: none;\n",
              "    border-radius: 50%;\n",
              "    cursor: pointer;\n",
              "    display: none;\n",
              "    fill: var(--fill-color);\n",
              "    height: 32px;\n",
              "    padding: 0;\n",
              "    width: 32px;\n",
              "  }\n",
              "\n",
              "  .colab-df-quickchart:hover {\n",
              "    background-color: var(--hover-bg-color);\n",
              "    box-shadow: 0 1px 2px rgba(60, 64, 67, 0.3), 0 1px 3px 1px rgba(60, 64, 67, 0.15);\n",
              "    fill: var(--button-hover-fill-color);\n",
              "  }\n",
              "\n",
              "  .colab-df-quickchart-complete:disabled,\n",
              "  .colab-df-quickchart-complete:disabled:hover {\n",
              "    background-color: var(--disabled-bg-color);\n",
              "    fill: var(--disabled-fill-color);\n",
              "    box-shadow: none;\n",
              "  }\n",
              "\n",
              "  .colab-df-spinner {\n",
              "    border: 2px solid var(--fill-color);\n",
              "    border-color: transparent;\n",
              "    border-bottom-color: var(--fill-color);\n",
              "    animation:\n",
              "      spin 1s steps(1) infinite;\n",
              "  }\n",
              "\n",
              "  @keyframes spin {\n",
              "    0% {\n",
              "      border-color: transparent;\n",
              "      border-bottom-color: var(--fill-color);\n",
              "      border-left-color: var(--fill-color);\n",
              "    }\n",
              "    20% {\n",
              "      border-color: transparent;\n",
              "      border-left-color: var(--fill-color);\n",
              "      border-top-color: var(--fill-color);\n",
              "    }\n",
              "    30% {\n",
              "      border-color: transparent;\n",
              "      border-left-color: var(--fill-color);\n",
              "      border-top-color: var(--fill-color);\n",
              "      border-right-color: var(--fill-color);\n",
              "    }\n",
              "    40% {\n",
              "      border-color: transparent;\n",
              "      border-right-color: var(--fill-color);\n",
              "      border-top-color: var(--fill-color);\n",
              "    }\n",
              "    60% {\n",
              "      border-color: transparent;\n",
              "      border-right-color: var(--fill-color);\n",
              "    }\n",
              "    80% {\n",
              "      border-color: transparent;\n",
              "      border-right-color: var(--fill-color);\n",
              "      border-bottom-color: var(--fill-color);\n",
              "    }\n",
              "    90% {\n",
              "      border-color: transparent;\n",
              "      border-bottom-color: var(--fill-color);\n",
              "    }\n",
              "  }\n",
              "</style>\n",
              "\n",
              "  <script>\n",
              "    async function quickchart(key) {\n",
              "      const quickchartButtonEl =\n",
              "        document.querySelector('#' + key + ' button');\n",
              "      quickchartButtonEl.disabled = true;  // To prevent multiple clicks.\n",
              "      quickchartButtonEl.classList.add('colab-df-spinner');\n",
              "      try {\n",
              "        const charts = await google.colab.kernel.invokeFunction(\n",
              "            'suggestCharts', [key], {});\n",
              "      } catch (error) {\n",
              "        console.error('Error during call to suggestCharts:', error);\n",
              "      }\n",
              "      quickchartButtonEl.classList.remove('colab-df-spinner');\n",
              "      quickchartButtonEl.classList.add('colab-df-quickchart-complete');\n",
              "    }\n",
              "    (() => {\n",
              "      let quickchartButtonEl =\n",
              "        document.querySelector('#df-37e7877a-bf2c-4d5a-8ef3-51b952d25207 button');\n",
              "      quickchartButtonEl.style.display =\n",
              "        google.colab.kernel.accessAllowed ? 'block' : 'none';\n",
              "    })();\n",
              "  </script>\n",
              "</div>\n",
              "    </div>\n",
              "  </div>\n"
            ]
          },
          "metadata": {},
          "execution_count": 3
        }
      ]
    },
    {
      "cell_type": "markdown",
      "source": [
        "“Low” represents the lowest share price for the day, “Last” represents the price at which the last transaction for a share went through. “Close” represents the price shares ended at for the day."
      ],
      "metadata": {
        "id": "TSVigI67QfkT"
      }
    },
    {
      "cell_type": "markdown",
      "source": [
        "## Data Normalization\n",
        "Normalization is changing the values of numeric columns in the dataset to a common scale, which helps the performance of our model. To scale the training dataset we use Scikit-Learn’s MinMaxScaler with numbers between zero and one."
      ],
      "metadata": {
        "id": "Wi2QUfp8ruEJ"
      }
    },
    {
      "cell_type": "code",
      "source": [
        "from sklearn.preprocessing import MinMaxScaler\n",
        "sc = MinMaxScaler(feature_range=(0,1))\n",
        "training_set_scaled = sc.fit_transform(training_set)"
      ],
      "metadata": {
        "id": "vQs_YdDvrwfx"
      },
      "execution_count": null,
      "outputs": []
    },
    {
      "cell_type": "code",
      "source": [
        "# Display the modified dataset\n",
        "print(dataset_train.head())"
      ],
      "metadata": {
        "colab": {
          "base_uri": "https://localhost:8080/"
        },
        "id": "J6aCbmYRr9oV",
        "outputId": "4c4e1782-a2c1-461c-ed76-5c4ccd9c392d"
      },
      "execution_count": null,
      "outputs": [
        {
          "output_type": "stream",
          "name": "stdout",
          "text": [
            "         Date    Open    High     Low    Last   Close  Total Trade Quantity  \\\n",
            "0  2018-09-28  234.05  235.95  230.20  233.50  233.75               3069914   \n",
            "1  2018-09-27  234.55  236.80  231.10  233.80  233.25               5082859   \n",
            "2  2018-09-26  240.00  240.00  232.50  235.00  234.25               2240909   \n",
            "3  2018-09-25  233.30  236.75  232.00  236.25  236.10               2349368   \n",
            "4  2018-09-24  233.55  239.20  230.75  234.00  233.30               3423509   \n",
            "\n",
            "   Turnover (Lacs)  \n",
            "0          7162.35  \n",
            "1         11859.95  \n",
            "2          5248.60  \n",
            "3          5503.90  \n",
            "4          7999.55  \n"
          ]
        }
      ]
    },
    {
      "cell_type": "markdown",
      "source": [
        "## Incorporating Timesteps Into Data\n",
        "We should input our data in the form of a 3D array to the LSTM model. First, we create data in 60 timesteps before using numpy to convert it into an array. Finally, we convert the data into a 3D array with X_train samples, 60 timestamps, and one feature at each step."
      ],
      "metadata": {
        "id": "V9HixSuYZsNs"
      }
    },
    {
      "cell_type": "code",
      "source": [
        "X_train = []\n",
        "y_train = []\n",
        "for i in range(60, 2035):\n",
        "    X_train.append(training_set_scaled[i-60:i, 0])\n",
        "    y_train.append(training_set_scaled[i, 0])\n",
        "X_train, y_train = np.array(X_train), np.array(y_train)\n",
        "X_train = np.reshape(X_train, (X_train.shape[0], X_train.shape[1], 1))"
      ],
      "metadata": {
        "id": "ssYsENnEZtqw"
      },
      "execution_count": null,
      "outputs": []
    },
    {
      "cell_type": "markdown",
      "source": [
        "## Creating the LSTM Model\n",
        "Before we can develop the LSTM, we have to make a few imports from Keras: Sequential for initializing the neural network, LSTM to add the LSTM layer, Dropout for preventing overfitting with dropout layers, and Dense to add a densely connected neural network layer."
      ],
      "metadata": {
        "id": "rk_R9_4JaSvY"
      }
    },
    {
      "cell_type": "code",
      "source": [
        "from keras.models import Sequential\n",
        "from keras.layers import LSTM\n",
        "from keras.layers import Dropout\n",
        "from keras.layers import Dense"
      ],
      "metadata": {
        "id": "5_LbR2kSaV-S"
      },
      "execution_count": null,
      "outputs": []
    },
    {
      "cell_type": "markdown",
      "source": [
        "The LSTM layer is added with the following arguments: 50 units is the dimensionality of the output space, return_sequences=True is necessary for stacking LSTM layers so the consequent LSTM layer has a three-dimensional sequence input, and input_shape is the shape of the training dataset.\n",
        "\n",
        "Specifying 0.2 in the Dropout layer means that 20% of the layers will be dropped. Following the LSTM and Dropout layers, we add the Dense layer that specifies an output of one unit. To compile our model we use the Adam optimizer and set the loss as the mean_squared_error. After that, we fit the model to run for 100 epochs (the epochs are the number of times the learning algorithm will work through the entire training set) with a batch size of 32."
      ],
      "metadata": {
        "id": "oL6sroT-a2Pg"
      }
    },
    {
      "cell_type": "code",
      "source": [
        "model = Sequential()\n",
        "model.add(LSTM(units=50,return_sequences=True,input_shape=(X_train.shape[1], 1)))\n",
        "model.add(Dropout(0.2))\n",
        "model.add(LSTM(units=50,return_sequences=True))\n",
        "model.add(Dropout(0.2))\n",
        "model.add(LSTM(units=50,return_sequences=True))\n",
        "model.add(Dropout(0.2))\n",
        "model.add(LSTM(units=50))\n",
        "model.add(Dropout(0.2))\n",
        "model.add(Dense(units=1))\n",
        "model.compile(optimizer='adam',loss='mean_squared_error')\n",
        "model.fit(X_train,y_train,epochs=100,batch_size=32)"
      ],
      "metadata": {
        "colab": {
          "base_uri": "https://localhost:8080/"
        },
        "id": "y61RfnH7a23Q",
        "outputId": "8356325f-6016-42cb-cf38-46b8dd9a245d"
      },
      "execution_count": null,
      "outputs": [
        {
          "output_type": "stream",
          "name": "stdout",
          "text": [
            "Epoch 1/100\n",
            "62/62 [==============================] - 30s 172ms/step - loss: 0.0098\n",
            "Epoch 2/100\n",
            "62/62 [==============================] - 10s 155ms/step - loss: 0.0037\n",
            "Epoch 3/100\n",
            "62/62 [==============================] - 10s 154ms/step - loss: 0.0029\n",
            "Epoch 4/100\n",
            "62/62 [==============================] - 9s 144ms/step - loss: 0.0027\n",
            "Epoch 5/100\n",
            "62/62 [==============================] - 9s 141ms/step - loss: 0.0026\n",
            "Epoch 6/100\n",
            "62/62 [==============================] - 10s 155ms/step - loss: 0.0026\n",
            "Epoch 7/100\n",
            "62/62 [==============================] - 10s 156ms/step - loss: 0.0022\n",
            "Epoch 8/100\n",
            "62/62 [==============================] - 8s 135ms/step - loss: 0.0021\n",
            "Epoch 9/100\n",
            "62/62 [==============================] - 10s 155ms/step - loss: 0.0021\n",
            "Epoch 10/100\n",
            "62/62 [==============================] - 12s 188ms/step - loss: 0.0021\n",
            "Epoch 11/100\n",
            "62/62 [==============================] - 10s 154ms/step - loss: 0.0019\n",
            "Epoch 12/100\n",
            "62/62 [==============================] - 8s 134ms/step - loss: 0.0018\n",
            "Epoch 13/100\n",
            "62/62 [==============================] - 10s 155ms/step - loss: 0.0015\n",
            "Epoch 14/100\n",
            "62/62 [==============================] - 10s 156ms/step - loss: 0.0016\n",
            "Epoch 15/100\n",
            "62/62 [==============================] - 9s 138ms/step - loss: 0.0016\n",
            "Epoch 16/100\n",
            "62/62 [==============================] - 10s 155ms/step - loss: 0.0015\n",
            "Epoch 17/100\n",
            "62/62 [==============================] - 10s 159ms/step - loss: 0.0017\n",
            "Epoch 18/100\n",
            "62/62 [==============================] - 10s 157ms/step - loss: 0.0016\n",
            "Epoch 19/100\n",
            "62/62 [==============================] - 8s 136ms/step - loss: 0.0016\n",
            "Epoch 20/100\n",
            "62/62 [==============================] - 10s 158ms/step - loss: 0.0015\n",
            "Epoch 21/100\n",
            "62/62 [==============================] - 10s 157ms/step - loss: 0.0013\n",
            "Epoch 22/100\n",
            "62/62 [==============================] - 9s 137ms/step - loss: 0.0016\n",
            "Epoch 23/100\n",
            "62/62 [==============================] - 9s 152ms/step - loss: 0.0012\n",
            "Epoch 24/100\n",
            "62/62 [==============================] - 10s 156ms/step - loss: 0.0012\n",
            "Epoch 25/100\n",
            "62/62 [==============================] - 9s 149ms/step - loss: 0.0011\n",
            "Epoch 26/100\n",
            "62/62 [==============================] - 9s 137ms/step - loss: 0.0011\n",
            "Epoch 27/100\n",
            "62/62 [==============================] - 10s 157ms/step - loss: 0.0011\n",
            "Epoch 28/100\n",
            "62/62 [==============================] - 10s 154ms/step - loss: 0.0013\n",
            "Epoch 29/100\n",
            "62/62 [==============================] - 8s 134ms/step - loss: 0.0011\n",
            "Epoch 30/100\n",
            "62/62 [==============================] - 10s 154ms/step - loss: 0.0010\n",
            "Epoch 31/100\n",
            "62/62 [==============================] - 10s 155ms/step - loss: 9.8605e-04\n",
            "Epoch 32/100\n",
            "62/62 [==============================] - 8s 137ms/step - loss: 0.0012\n",
            "Epoch 33/100\n",
            "62/62 [==============================] - 10s 152ms/step - loss: 9.9833e-04\n",
            "Epoch 34/100\n",
            "62/62 [==============================] - 11s 179ms/step - loss: 9.6356e-04\n",
            "Epoch 35/100\n",
            "62/62 [==============================] - 10s 156ms/step - loss: 9.5463e-04\n",
            "Epoch 36/100\n",
            "62/62 [==============================] - 8s 134ms/step - loss: 0.0010\n",
            "Epoch 37/100\n",
            "62/62 [==============================] - 10s 156ms/step - loss: 9.0499e-04\n",
            "Epoch 38/100\n",
            "62/62 [==============================] - 10s 155ms/step - loss: 0.0010\n",
            "Epoch 39/100\n",
            "62/62 [==============================] - 9s 145ms/step - loss: 9.3972e-04\n",
            "Epoch 40/100\n",
            "62/62 [==============================] - 9s 144ms/step - loss: 8.9350e-04\n",
            "Epoch 41/100\n",
            "62/62 [==============================] - 9s 153ms/step - loss: 8.9597e-04\n",
            "Epoch 42/100\n",
            "62/62 [==============================] - 10s 157ms/step - loss: 7.7945e-04\n",
            "Epoch 43/100\n",
            "62/62 [==============================] - 8s 135ms/step - loss: 8.9310e-04\n",
            "Epoch 44/100\n",
            "62/62 [==============================] - 10s 154ms/step - loss: 8.3472e-04\n",
            "Epoch 45/100\n",
            "62/62 [==============================] - 10s 154ms/step - loss: 8.0243e-04\n",
            "Epoch 46/100\n",
            "62/62 [==============================] - 8s 135ms/step - loss: 7.9725e-04\n",
            "Epoch 47/100\n",
            "62/62 [==============================] - 10s 154ms/step - loss: 9.8558e-04\n",
            "Epoch 48/100\n",
            "62/62 [==============================] - 10s 155ms/step - loss: 8.5654e-04\n",
            "Epoch 49/100\n",
            "62/62 [==============================] - 9s 151ms/step - loss: 9.1556e-04\n",
            "Epoch 50/100\n",
            "62/62 [==============================] - 9s 136ms/step - loss: 8.3395e-04\n",
            "Epoch 51/100\n",
            "62/62 [==============================] - 10s 154ms/step - loss: 9.5626e-04\n",
            "Epoch 52/100\n",
            "62/62 [==============================] - 10s 155ms/step - loss: 8.4390e-04\n",
            "Epoch 53/100\n",
            "62/62 [==============================] - 8s 134ms/step - loss: 8.4893e-04\n",
            "Epoch 54/100\n",
            "62/62 [==============================] - 9s 154ms/step - loss: 7.2272e-04\n",
            "Epoch 55/100\n",
            "62/62 [==============================] - 10s 155ms/step - loss: 7.6206e-04\n",
            "Epoch 56/100\n",
            "62/62 [==============================] - 8s 137ms/step - loss: 9.5270e-04\n",
            "Epoch 57/100\n",
            "62/62 [==============================] - 9s 148ms/step - loss: 7.5019e-04\n",
            "Epoch 58/100\n",
            "62/62 [==============================] - 10s 154ms/step - loss: 7.5327e-04\n",
            "Epoch 59/100\n",
            "62/62 [==============================] - 9s 151ms/step - loss: 7.6484e-04\n",
            "Epoch 60/100\n",
            "62/62 [==============================] - 9s 136ms/step - loss: 7.8438e-04\n",
            "Epoch 61/100\n",
            "62/62 [==============================] - 10s 155ms/step - loss: 6.9240e-04\n",
            "Epoch 62/100\n",
            "62/62 [==============================] - 10s 155ms/step - loss: 7.4966e-04\n",
            "Epoch 63/100\n",
            "62/62 [==============================] - 8s 134ms/step - loss: 6.5573e-04\n",
            "Epoch 64/100\n",
            "62/62 [==============================] - 9s 153ms/step - loss: 6.7011e-04\n",
            "Epoch 65/100\n",
            "62/62 [==============================] - 10s 156ms/step - loss: 6.8773e-04\n",
            "Epoch 66/100\n",
            "62/62 [==============================] - 10s 167ms/step - loss: 7.5802e-04\n",
            "Epoch 67/100\n",
            "62/62 [==============================] - 9s 142ms/step - loss: 6.7474e-04\n",
            "Epoch 68/100\n",
            "62/62 [==============================] - 10s 154ms/step - loss: 7.0482e-04\n",
            "Epoch 69/100\n",
            "62/62 [==============================] - 10s 155ms/step - loss: 6.3650e-04\n",
            "Epoch 70/100\n",
            "62/62 [==============================] - 8s 132ms/step - loss: 6.9776e-04\n",
            "Epoch 71/100\n",
            "62/62 [==============================] - 10s 155ms/step - loss: 6.6764e-04\n",
            "Epoch 72/100\n",
            "62/62 [==============================] - 10s 156ms/step - loss: 7.1988e-04\n",
            "Epoch 73/100\n",
            "62/62 [==============================] - 8s 133ms/step - loss: 6.6377e-04\n",
            "Epoch 74/100\n",
            "62/62 [==============================] - 10s 154ms/step - loss: 5.8943e-04\n",
            "Epoch 75/100\n",
            "62/62 [==============================] - 10s 155ms/step - loss: 7.3551e-04\n",
            "Epoch 76/100\n",
            "62/62 [==============================] - 9s 148ms/step - loss: 6.8781e-04\n",
            "Epoch 77/100\n",
            "62/62 [==============================] - 9s 140ms/step - loss: 7.9617e-04\n",
            "Epoch 78/100\n",
            "62/62 [==============================] - 10s 156ms/step - loss: 5.5677e-04\n",
            "Epoch 79/100\n",
            "62/62 [==============================] - 10s 156ms/step - loss: 6.0287e-04\n",
            "Epoch 80/100\n",
            "62/62 [==============================] - 8s 133ms/step - loss: 6.5327e-04\n",
            "Epoch 81/100\n",
            "62/62 [==============================] - 10s 154ms/step - loss: 6.7980e-04\n",
            "Epoch 82/100\n",
            "62/62 [==============================] - 10s 154ms/step - loss: 7.6759e-04\n",
            "Epoch 83/100\n",
            "62/62 [==============================] - 8s 134ms/step - loss: 5.7851e-04\n",
            "Epoch 84/100\n",
            "62/62 [==============================] - 10s 155ms/step - loss: 5.4572e-04\n",
            "Epoch 85/100\n",
            "62/62 [==============================] - 10s 156ms/step - loss: 6.5074e-04\n",
            "Epoch 86/100\n",
            "62/62 [==============================] - 9s 151ms/step - loss: 6.6225e-04\n",
            "Epoch 87/100\n",
            "62/62 [==============================] - 9s 138ms/step - loss: 7.3889e-04\n",
            "Epoch 88/100\n",
            "62/62 [==============================] - 10s 154ms/step - loss: 6.0423e-04\n",
            "Epoch 89/100\n",
            "62/62 [==============================] - 10s 155ms/step - loss: 6.1698e-04\n",
            "Epoch 90/100\n",
            "62/62 [==============================] - 8s 133ms/step - loss: 6.6969e-04\n",
            "Epoch 91/100\n",
            "62/62 [==============================] - 10s 155ms/step - loss: 6.6289e-04\n",
            "Epoch 92/100\n",
            "62/62 [==============================] - 10s 156ms/step - loss: 6.9732e-04\n",
            "Epoch 93/100\n",
            "62/62 [==============================] - 9s 138ms/step - loss: 6.9404e-04\n",
            "Epoch 94/100\n",
            "62/62 [==============================] - 9s 149ms/step - loss: 6.0894e-04\n",
            "Epoch 95/100\n",
            "62/62 [==============================] - 10s 161ms/step - loss: 5.7511e-04\n",
            "Epoch 96/100\n",
            "62/62 [==============================] - 10s 156ms/step - loss: 6.1257e-04\n",
            "Epoch 97/100\n",
            "62/62 [==============================] - 8s 135ms/step - loss: 5.7974e-04\n",
            "Epoch 98/100\n",
            "62/62 [==============================] - 10s 157ms/step - loss: 6.5305e-04\n",
            "Epoch 99/100\n",
            "62/62 [==============================] - 10s 155ms/step - loss: 5.6695e-04\n",
            "Epoch 100/100\n",
            "62/62 [==============================] - 8s 135ms/step - loss: 6.5867e-04\n"
          ]
        },
        {
          "output_type": "execute_result",
          "data": {
            "text/plain": [
              "<keras.callbacks.History at 0x7c0e47d364d0>"
            ]
          },
          "metadata": {},
          "execution_count": 8
        }
      ]
    },
    {
      "cell_type": "markdown",
      "source": [
        "## Making Predictions on the Test Set\n",
        "We start off by importing the test set"
      ],
      "metadata": {
        "id": "PuHvBWnJ2bjF"
      }
    },
    {
      "cell_type": "code",
      "source": [
        "url = 'https://raw.githubusercontent.com/mwitiderrick/stockprice/master/tatatest.csv'\n",
        "dataset_test = pd.read_csv(url)\n",
        "real_stock_price = dataset_test.iloc[:, 1:2].values"
      ],
      "metadata": {
        "id": "uhBnGAvO2dyl"
      },
      "execution_count": null,
      "outputs": []
    },
    {
      "cell_type": "markdown",
      "source": [
        "Before predicting future stock prices, we have to modify the test set (notice similarities to the edits we made to the training set): merge the training set and the test set on the 0 axis, set 60 as the time step again, use MinMaxScaler, and reshape data. Then, inverse_transform puts the stock prices in a normal readable format."
      ],
      "metadata": {
        "id": "hlje_Qzt24id"
      }
    },
    {
      "cell_type": "code",
      "source": [
        "import numpy as np\n",
        "import pandas as pd\n",
        "# Assuming you have already defined and trained the LSTM model\n",
        "\n",
        "# Concatenate the 'Open' values from both train and test datasets\n",
        "dataset_total = pd.concat((dataset_train['Open'], dataset_test['Open']), axis=0)\n",
        "\n",
        "# Prepare the inputs for prediction\n",
        "inputs = dataset_total[len(dataset_total) - len(dataset_test) - 60:].values\n",
        "inputs = inputs.reshape(-1, 1)\n",
        "\n",
        "# Fit the scaler on the training data and apply the transformation to the inputs\n",
        "sc.fit(dataset_train['Open'].values.reshape(-1, 1))\n",
        "inputs = sc.transform(inputs)\n",
        "\n",
        "# Prepare the test data for prediction\n",
        "X_test = []\n",
        "for i in range(60, 76):\n",
        "    X_test.append(inputs[i-60:i, 0])\n",
        "\n",
        "X_test = np.array(X_test)\n",
        "X_test = np.reshape(X_test, (X_test.shape[0], X_test.shape[1], 1))\n",
        "\n",
        "# Make predictions\n",
        "predicted_stock_price = model.predict(X_test)\n",
        "\n",
        "# Inverse transform the predicted stock prices\n",
        "predicted_stock_price = sc.inverse_transform(predicted_stock_price)"
      ],
      "metadata": {
        "colab": {
          "base_uri": "https://localhost:8080/"
        },
        "id": "oj0NRn6325Mm",
        "outputId": "00ee077a-63f1-46e9-b487-efa97b7b96da"
      },
      "execution_count": null,
      "outputs": [
        {
          "output_type": "stream",
          "name": "stdout",
          "text": [
            "1/1 [==============================] - 3s 3s/step\n"
          ]
        }
      ]
    },
    {
      "cell_type": "markdown",
      "source": [
        "## Plotting the Results\n",
        "After all these steps, we can use matplotlib to visualize the result of our predicted stock price and the actual stock price."
      ],
      "metadata": {
        "id": "uRXFKWuP4Htp"
      }
    },
    {
      "cell_type": "code",
      "source": [
        "plt.plot(real_stock_price, color = 'black', label = 'TATA Stock Price')\n",
        "plt.plot(predicted_stock_price, color = 'green', label = 'Predicted TATA Stock Price')\n",
        "plt.title('TATA Stock Price Prediction')\n",
        "plt.xlabel('Time')\n",
        "plt.ylabel('TATA Stock Price')\n",
        "plt.legend()\n",
        "plt.show()"
      ],
      "metadata": {
        "colab": {
          "base_uri": "https://localhost:8080/",
          "height": 472
        },
        "id": "DGbJ2gCz4L06",
        "outputId": "7126444b-ab91-4f12-c111-169ad32b1c8a"
      },
      "execution_count": null,
      "outputs": [
        {
          "output_type": "display_data",
          "data": {
            "text/plain": [
              "<Figure size 640x480 with 1 Axes>"
            ],
            "image/png": "[encoded data removed]"
          },
          "metadata": {}
        }
      ]
    }
  ]
}